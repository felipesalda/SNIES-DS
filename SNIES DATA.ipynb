{
 "cells": [
  {
   "cell_type": "code",
   "execution_count": 1,
   "metadata": {},
   "outputs": [],
   "source": [
    "import pandas as pd\n",
    "import numpy as np"
   ]
  },
  {
   "cell_type": "code",
   "execution_count": 2,
   "metadata": {},
   "outputs": [],
   "source": [
    "dir= \"data_raw/graduados 2018.xlsx\""
   ]
  },
  {
   "cell_type": "code",
   "execution_count": 10,
   "metadata": {},
   "outputs": [
    {
     "data": {
      "text/html": [
       "<div>\n",
       "<style scoped>\n",
       "    .dataframe tbody tr th:only-of-type {\n",
       "        vertical-align: middle;\n",
       "    }\n",
       "\n",
       "    .dataframe tbody tr th {\n",
       "        vertical-align: top;\n",
       "    }\n",
       "\n",
       "    .dataframe thead th {\n",
       "        text-align: right;\n",
       "    }\n",
       "</style>\n",
       "<table border=\"1\" class=\"dataframe\">\n",
       "  <thead>\n",
       "    <tr style=\"text-align: right;\">\n",
       "      <th></th>\n",
       "      <th>Código de \\nla Institución</th>\n",
       "      <th>IES PADRE</th>\n",
       "      <th>Institución de Educación Superior (IES)</th>\n",
       "      <th>Principal\\n o\\nSeccional</th>\n",
       "      <th>ID Sector IES</th>\n",
       "      <th>Sector IES</th>\n",
       "      <th>ID Caracter</th>\n",
       "      <th>Caracter IES</th>\n",
       "      <th>Código del \\ndepartamento\\n(IES)</th>\n",
       "      <th>Departamento de \\ndomicilio de la IES</th>\n",
       "      <th>...</th>\n",
       "      <th>Núcleo Básico del Conocimiento (NBC)</th>\n",
       "      <th>Código del \\nDepartamento\\n(Programa)</th>\n",
       "      <th>Departamento de oferta del programa</th>\n",
       "      <th>Código del \\nMunicipio\\n(Programa)</th>\n",
       "      <th>Municipio de oferta del programa</th>\n",
       "      <th>ID Sexo</th>\n",
       "      <th>Sexo</th>\n",
       "      <th>Año*</th>\n",
       "      <th>Semestre</th>\n",
       "      <th>Graduados</th>\n",
       "    </tr>\n",
       "  </thead>\n",
       "  <tbody>\n",
       "    <tr>\n",
       "      <th>0</th>\n",
       "      <td>1101</td>\n",
       "      <td>1101</td>\n",
       "      <td>UNIVERSIDAD NACIONAL DE COLOMBIA</td>\n",
       "      <td>PRINCIPAL</td>\n",
       "      <td>1</td>\n",
       "      <td>OFICIAL</td>\n",
       "      <td>4</td>\n",
       "      <td>UNIVERSIDAD</td>\n",
       "      <td>11</td>\n",
       "      <td>BOGOTA DC</td>\n",
       "      <td>...</td>\n",
       "      <td>GEOGRAFIA, HISTORIA</td>\n",
       "      <td>11</td>\n",
       "      <td>BOGOTA DC</td>\n",
       "      <td>11001</td>\n",
       "      <td>BOGOTA DC</td>\n",
       "      <td>2</td>\n",
       "      <td>MUJER</td>\n",
       "      <td>2011</td>\n",
       "      <td>2</td>\n",
       "      <td>6</td>\n",
       "    </tr>\n",
       "    <tr>\n",
       "      <th>1</th>\n",
       "      <td>1101</td>\n",
       "      <td>1101</td>\n",
       "      <td>UNIVERSIDAD NACIONAL DE COLOMBIA</td>\n",
       "      <td>PRINCIPAL</td>\n",
       "      <td>1</td>\n",
       "      <td>OFICIAL</td>\n",
       "      <td>4</td>\n",
       "      <td>UNIVERSIDAD</td>\n",
       "      <td>11</td>\n",
       "      <td>BOGOTA DC</td>\n",
       "      <td>...</td>\n",
       "      <td>DERECHO Y AFINES</td>\n",
       "      <td>11</td>\n",
       "      <td>BOGOTA DC</td>\n",
       "      <td>11001</td>\n",
       "      <td>BOGOTA DC</td>\n",
       "      <td>2</td>\n",
       "      <td>MUJER</td>\n",
       "      <td>2009</td>\n",
       "      <td>2</td>\n",
       "      <td>17</td>\n",
       "    </tr>\n",
       "    <tr>\n",
       "      <th>2</th>\n",
       "      <td>1101</td>\n",
       "      <td>1101</td>\n",
       "      <td>UNIVERSIDAD NACIONAL DE COLOMBIA</td>\n",
       "      <td>PRINCIPAL</td>\n",
       "      <td>1</td>\n",
       "      <td>OFICIAL</td>\n",
       "      <td>4</td>\n",
       "      <td>UNIVERSIDAD</td>\n",
       "      <td>11</td>\n",
       "      <td>BOGOTA DC</td>\n",
       "      <td>...</td>\n",
       "      <td>DERECHO Y AFINES</td>\n",
       "      <td>11</td>\n",
       "      <td>BOGOTA DC</td>\n",
       "      <td>11001</td>\n",
       "      <td>BOGOTA DC</td>\n",
       "      <td>2</td>\n",
       "      <td>MUJER</td>\n",
       "      <td>2012</td>\n",
       "      <td>1</td>\n",
       "      <td>5</td>\n",
       "    </tr>\n",
       "    <tr>\n",
       "      <th>3</th>\n",
       "      <td>1101</td>\n",
       "      <td>1101</td>\n",
       "      <td>UNIVERSIDAD NACIONAL DE COLOMBIA</td>\n",
       "      <td>PRINCIPAL</td>\n",
       "      <td>1</td>\n",
       "      <td>OFICIAL</td>\n",
       "      <td>4</td>\n",
       "      <td>UNIVERSIDAD</td>\n",
       "      <td>11</td>\n",
       "      <td>BOGOTA DC</td>\n",
       "      <td>...</td>\n",
       "      <td>SOCIOLOGIA, TRABAJO SOCIAL Y AFINES</td>\n",
       "      <td>11</td>\n",
       "      <td>BOGOTA DC</td>\n",
       "      <td>11001</td>\n",
       "      <td>BOGOTA DC</td>\n",
       "      <td>2</td>\n",
       "      <td>MUJER</td>\n",
       "      <td>2012</td>\n",
       "      <td>2</td>\n",
       "      <td>36</td>\n",
       "    </tr>\n",
       "    <tr>\n",
       "      <th>4</th>\n",
       "      <td>1101</td>\n",
       "      <td>1101</td>\n",
       "      <td>UNIVERSIDAD NACIONAL DE COLOMBIA</td>\n",
       "      <td>PRINCIPAL</td>\n",
       "      <td>1</td>\n",
       "      <td>OFICIAL</td>\n",
       "      <td>4</td>\n",
       "      <td>UNIVERSIDAD</td>\n",
       "      <td>11</td>\n",
       "      <td>BOGOTA DC</td>\n",
       "      <td>...</td>\n",
       "      <td>ZOOTECNIA</td>\n",
       "      <td>11</td>\n",
       "      <td>BOGOTA DC</td>\n",
       "      <td>11001</td>\n",
       "      <td>BOGOTA DC</td>\n",
       "      <td>2</td>\n",
       "      <td>MUJER</td>\n",
       "      <td>2011</td>\n",
       "      <td>1</td>\n",
       "      <td>27</td>\n",
       "    </tr>\n",
       "    <tr>\n",
       "      <th>...</th>\n",
       "      <td>...</td>\n",
       "      <td>...</td>\n",
       "      <td>...</td>\n",
       "      <td>...</td>\n",
       "      <td>...</td>\n",
       "      <td>...</td>\n",
       "      <td>...</td>\n",
       "      <td>...</td>\n",
       "      <td>...</td>\n",
       "      <td>...</td>\n",
       "      <td>...</td>\n",
       "      <td>...</td>\n",
       "      <td>...</td>\n",
       "      <td>...</td>\n",
       "      <td>...</td>\n",
       "      <td>...</td>\n",
       "      <td>...</td>\n",
       "      <td>...</td>\n",
       "      <td>...</td>\n",
       "      <td>...</td>\n",
       "      <td>...</td>\n",
       "    </tr>\n",
       "    <tr>\n",
       "      <th>388767</th>\n",
       "      <td>1701</td>\n",
       "      <td>1701</td>\n",
       "      <td>PONTIFICIA UNIVERSIDAD JAVERIANA</td>\n",
       "      <td>PRINCIPAL</td>\n",
       "      <td>2</td>\n",
       "      <td>PRIVADA</td>\n",
       "      <td>4</td>\n",
       "      <td>UNIVERSIDAD</td>\n",
       "      <td>11</td>\n",
       "      <td>BOGOTA DC</td>\n",
       "      <td>...</td>\n",
       "      <td>MEDICINA</td>\n",
       "      <td>11</td>\n",
       "      <td>BOGOTA DC</td>\n",
       "      <td>11001</td>\n",
       "      <td>BOGOTA DC</td>\n",
       "      <td>1</td>\n",
       "      <td>HOMBRE</td>\n",
       "      <td>2017</td>\n",
       "      <td>2</td>\n",
       "      <td>1</td>\n",
       "    </tr>\n",
       "    <tr>\n",
       "      <th>388768</th>\n",
       "      <td>1701</td>\n",
       "      <td>1701</td>\n",
       "      <td>PONTIFICIA UNIVERSIDAD JAVERIANA</td>\n",
       "      <td>PRINCIPAL</td>\n",
       "      <td>2</td>\n",
       "      <td>PRIVADA</td>\n",
       "      <td>4</td>\n",
       "      <td>UNIVERSIDAD</td>\n",
       "      <td>11</td>\n",
       "      <td>BOGOTA DC</td>\n",
       "      <td>...</td>\n",
       "      <td>MEDICINA</td>\n",
       "      <td>11</td>\n",
       "      <td>BOGOTA DC</td>\n",
       "      <td>11001</td>\n",
       "      <td>BOGOTA DC</td>\n",
       "      <td>1</td>\n",
       "      <td>HOMBRE</td>\n",
       "      <td>2017</td>\n",
       "      <td>2</td>\n",
       "      <td>1</td>\n",
       "    </tr>\n",
       "    <tr>\n",
       "      <th>388769</th>\n",
       "      <td>2702</td>\n",
       "      <td>2702</td>\n",
       "      <td>FUNDACION UNIVERSITARIA DE CIENCIAS DE LA SALUD</td>\n",
       "      <td>PRINCIPAL</td>\n",
       "      <td>2</td>\n",
       "      <td>PRIVADA</td>\n",
       "      <td>3</td>\n",
       "      <td>INSTITUCION UNIVERSITARIA/ESCUELA TECNOLOGICA</td>\n",
       "      <td>11</td>\n",
       "      <td>BOGOTA DC</td>\n",
       "      <td>...</td>\n",
       "      <td>SIN CLASIFICAR</td>\n",
       "      <td>11</td>\n",
       "      <td>BOGOTA DC</td>\n",
       "      <td>11001</td>\n",
       "      <td>BOGOTA DC</td>\n",
       "      <td>2</td>\n",
       "      <td>MUJER</td>\n",
       "      <td>2017</td>\n",
       "      <td>1</td>\n",
       "      <td>1</td>\n",
       "    </tr>\n",
       "    <tr>\n",
       "      <th>388770</th>\n",
       "      <td>2702</td>\n",
       "      <td>2702</td>\n",
       "      <td>FUNDACION UNIVERSITARIA DE CIENCIAS DE LA SALUD</td>\n",
       "      <td>PRINCIPAL</td>\n",
       "      <td>2</td>\n",
       "      <td>PRIVADA</td>\n",
       "      <td>3</td>\n",
       "      <td>INSTITUCION UNIVERSITARIA/ESCUELA TECNOLOGICA</td>\n",
       "      <td>11</td>\n",
       "      <td>BOGOTA DC</td>\n",
       "      <td>...</td>\n",
       "      <td>SIN CLASIFICAR</td>\n",
       "      <td>11</td>\n",
       "      <td>BOGOTA DC</td>\n",
       "      <td>11001</td>\n",
       "      <td>BOGOTA DC</td>\n",
       "      <td>1</td>\n",
       "      <td>HOMBRE</td>\n",
       "      <td>2017</td>\n",
       "      <td>2</td>\n",
       "      <td>1</td>\n",
       "    </tr>\n",
       "    <tr>\n",
       "      <th>388771</th>\n",
       "      <td>1201</td>\n",
       "      <td>1201</td>\n",
       "      <td>UNIVERSIDAD DE ANTIOQUIA</td>\n",
       "      <td>PRINCIPAL</td>\n",
       "      <td>1</td>\n",
       "      <td>OFICIAL</td>\n",
       "      <td>4</td>\n",
       "      <td>UNIVERSIDAD</td>\n",
       "      <td>5</td>\n",
       "      <td>ANTIOQUIA</td>\n",
       "      <td>...</td>\n",
       "      <td>MEDICINA</td>\n",
       "      <td>5</td>\n",
       "      <td>ANTIOQUIA</td>\n",
       "      <td>5001</td>\n",
       "      <td>NaN</td>\n",
       "      <td>2</td>\n",
       "      <td>MUJER</td>\n",
       "      <td>2017</td>\n",
       "      <td>2</td>\n",
       "      <td>1</td>\n",
       "    </tr>\n",
       "  </tbody>\n",
       "</table>\n",
       "<p>388772 rows × 33 columns</p>\n",
       "</div>"
      ],
      "text/plain": [
       "        Código de \\nla Institución  IES PADRE  \\\n",
       "0                             1101       1101   \n",
       "1                             1101       1101   \n",
       "2                             1101       1101   \n",
       "3                             1101       1101   \n",
       "4                             1101       1101   \n",
       "...                            ...        ...   \n",
       "388767                        1701       1701   \n",
       "388768                        1701       1701   \n",
       "388769                        2702       2702   \n",
       "388770                        2702       2702   \n",
       "388771                        1201       1201   \n",
       "\n",
       "                Institución de Educación Superior (IES)  \\\n",
       "0                      UNIVERSIDAD NACIONAL DE COLOMBIA   \n",
       "1                      UNIVERSIDAD NACIONAL DE COLOMBIA   \n",
       "2                      UNIVERSIDAD NACIONAL DE COLOMBIA   \n",
       "3                      UNIVERSIDAD NACIONAL DE COLOMBIA   \n",
       "4                      UNIVERSIDAD NACIONAL DE COLOMBIA   \n",
       "...                                                 ...   \n",
       "388767                 PONTIFICIA UNIVERSIDAD JAVERIANA   \n",
       "388768                 PONTIFICIA UNIVERSIDAD JAVERIANA   \n",
       "388769  FUNDACION UNIVERSITARIA DE CIENCIAS DE LA SALUD   \n",
       "388770  FUNDACION UNIVERSITARIA DE CIENCIAS DE LA SALUD   \n",
       "388771                         UNIVERSIDAD DE ANTIOQUIA   \n",
       "\n",
       "       Principal\\n o\\nSeccional  ID Sector IES Sector IES  ID Caracter  \\\n",
       "0                     PRINCIPAL              1    OFICIAL            4   \n",
       "1                     PRINCIPAL              1    OFICIAL            4   \n",
       "2                     PRINCIPAL              1    OFICIAL            4   \n",
       "3                     PRINCIPAL              1    OFICIAL            4   \n",
       "4                     PRINCIPAL              1    OFICIAL            4   \n",
       "...                         ...            ...        ...          ...   \n",
       "388767                PRINCIPAL              2    PRIVADA            4   \n",
       "388768                PRINCIPAL              2    PRIVADA            4   \n",
       "388769                PRINCIPAL              2    PRIVADA            3   \n",
       "388770                PRINCIPAL              2    PRIVADA            3   \n",
       "388771                PRINCIPAL              1    OFICIAL            4   \n",
       "\n",
       "                                         Caracter IES  \\\n",
       "0                                         UNIVERSIDAD   \n",
       "1                                         UNIVERSIDAD   \n",
       "2                                         UNIVERSIDAD   \n",
       "3                                         UNIVERSIDAD   \n",
       "4                                         UNIVERSIDAD   \n",
       "...                                               ...   \n",
       "388767                                    UNIVERSIDAD   \n",
       "388768                                    UNIVERSIDAD   \n",
       "388769  INSTITUCION UNIVERSITARIA/ESCUELA TECNOLOGICA   \n",
       "388770  INSTITUCION UNIVERSITARIA/ESCUELA TECNOLOGICA   \n",
       "388771                                    UNIVERSIDAD   \n",
       "\n",
       "        Código del \\ndepartamento\\n(IES)  \\\n",
       "0                                     11   \n",
       "1                                     11   \n",
       "2                                     11   \n",
       "3                                     11   \n",
       "4                                     11   \n",
       "...                                  ...   \n",
       "388767                                11   \n",
       "388768                                11   \n",
       "388769                                11   \n",
       "388770                                11   \n",
       "388771                                 5   \n",
       "\n",
       "       Departamento de \\ndomicilio de la IES  ...  \\\n",
       "0                                  BOGOTA DC  ...   \n",
       "1                                  BOGOTA DC  ...   \n",
       "2                                  BOGOTA DC  ...   \n",
       "3                                  BOGOTA DC  ...   \n",
       "4                                  BOGOTA DC  ...   \n",
       "...                                      ...  ...   \n",
       "388767                             BOGOTA DC  ...   \n",
       "388768                             BOGOTA DC  ...   \n",
       "388769                             BOGOTA DC  ...   \n",
       "388770                             BOGOTA DC  ...   \n",
       "388771                             ANTIOQUIA  ...   \n",
       "\n",
       "        Núcleo Básico del Conocimiento (NBC)  \\\n",
       "0                        GEOGRAFIA, HISTORIA   \n",
       "1                           DERECHO Y AFINES   \n",
       "2                           DERECHO Y AFINES   \n",
       "3        SOCIOLOGIA, TRABAJO SOCIAL Y AFINES   \n",
       "4                                  ZOOTECNIA   \n",
       "...                                      ...   \n",
       "388767                              MEDICINA   \n",
       "388768                              MEDICINA   \n",
       "388769                        SIN CLASIFICAR   \n",
       "388770                        SIN CLASIFICAR   \n",
       "388771                              MEDICINA   \n",
       "\n",
       "       Código del \\nDepartamento\\n(Programa)  \\\n",
       "0                                         11   \n",
       "1                                         11   \n",
       "2                                         11   \n",
       "3                                         11   \n",
       "4                                         11   \n",
       "...                                      ...   \n",
       "388767                                    11   \n",
       "388768                                    11   \n",
       "388769                                    11   \n",
       "388770                                    11   \n",
       "388771                                     5   \n",
       "\n",
       "        Departamento de oferta del programa  \\\n",
       "0                                 BOGOTA DC   \n",
       "1                                 BOGOTA DC   \n",
       "2                                 BOGOTA DC   \n",
       "3                                 BOGOTA DC   \n",
       "4                                 BOGOTA DC   \n",
       "...                                     ...   \n",
       "388767                            BOGOTA DC   \n",
       "388768                            BOGOTA DC   \n",
       "388769                            BOGOTA DC   \n",
       "388770                            BOGOTA DC   \n",
       "388771                            ANTIOQUIA   \n",
       "\n",
       "       Código del \\nMunicipio\\n(Programa)  Municipio de oferta del programa  \\\n",
       "0                                   11001                         BOGOTA DC   \n",
       "1                                   11001                         BOGOTA DC   \n",
       "2                                   11001                         BOGOTA DC   \n",
       "3                                   11001                         BOGOTA DC   \n",
       "4                                   11001                         BOGOTA DC   \n",
       "...                                   ...                               ...   \n",
       "388767                              11001                         BOGOTA DC   \n",
       "388768                              11001                         BOGOTA DC   \n",
       "388769                              11001                         BOGOTA DC   \n",
       "388770                              11001                         BOGOTA DC   \n",
       "388771                               5001                               NaN   \n",
       "\n",
       "       ID Sexo    Sexo  Año*  Semestre Graduados  \n",
       "0            2   MUJER  2011         2         6  \n",
       "1            2   MUJER  2009         2        17  \n",
       "2            2   MUJER  2012         1         5  \n",
       "3            2   MUJER  2012         2        36  \n",
       "4            2   MUJER  2011         1        27  \n",
       "...        ...     ...   ...       ...       ...  \n",
       "388767       1  HOMBRE  2017         2         1  \n",
       "388768       1  HOMBRE  2017         2         1  \n",
       "388769       2   MUJER  2017         1         1  \n",
       "388770       1  HOMBRE  2017         2         1  \n",
       "388771       2   MUJER  2017         2         1  \n",
       "\n",
       "[388772 rows x 33 columns]"
      ]
     },
     "execution_count": 10,
     "metadata": {},
     "output_type": "execute_result"
    }
   ],
   "source": [
    "graduados = pd.read_excel(dir)\n",
    "graduados"
   ]
  },
  {
   "cell_type": "code",
   "execution_count": 11,
   "metadata": {},
   "outputs": [],
   "source": [
    "dir= \"data_raw/grads 2001-2017.xlsx\"\n",
    "graduados_2001_2017 = pd.read_excel(dir)\n",
    "#graduados_2001_2017"
   ]
  },
  {
   "cell_type": "code",
   "execution_count": 6,
   "metadata": {},
   "outputs": [],
   "source": [
    "#colocamos con igual nombre las columnas de ambas df\n",
    "graduados_2001_2017 = graduados_2001_2017.rename(columns=graduados.iloc[0])\n",
    "\n",
    "graduados_2001_2017 = pd.DataFrame(data=graduados_2001_2017.values, columns=graduados.columns)\n",
    "\n",
    "#graduados_2001_2017"
   ]
  },
  {
   "cell_type": "code",
   "execution_count": 7,
   "metadata": {},
   "outputs": [],
   "source": [
    "#Hacemos append de todo en un solo df\n",
    "\n",
    "graduados = graduados.append(graduados_2001_2017)\n",
    "\n",
    "#graduados"
   ]
  },
  {
   "cell_type": "code",
   "execution_count": 8,
   "metadata": {},
   "outputs": [],
   "source": [
    "graduados.to_pickle(\"data_processed/graduadosT.pkl\")"
   ]
  },
  {
   "cell_type": "markdown",
   "metadata": {},
   "source": [
    "# MATRICULADOS"
   ]
  },
  {
   "cell_type": "code",
   "execution_count": 9,
   "metadata": {},
   "outputs": [],
   "source": [
    "path_matriculados = \"data_raw/Matriculados 2019.xlsx\""
   ]
  },
  {
   "cell_type": "code",
   "execution_count": 10,
   "metadata": {},
   "outputs": [],
   "source": [
    "matriculados = pd.read_excel(path_matriculados)\n",
    "#matriculados"
   ]
  },
  {
   "cell_type": "code",
   "execution_count": 11,
   "metadata": {},
   "outputs": [],
   "source": [
    "matriculados = matriculados.drop(columns=['ID CINE CAMPO AMPLIO', 'DESC CINE CAMPO AMPLIO','ID CINE CAMPO ESPECIFICO','DESC CINE CAMPO ESPECIFICO','ID CINE CODIGO DETALLADO', 'DESC CINE CODIGO DETALLADO'])\n",
    "#matriculados"
   ]
  },
  {
   "cell_type": "code",
   "execution_count": 12,
   "metadata": {},
   "outputs": [],
   "source": [
    "path_matriculados = \"data_raw/Matriculados\"\n",
    "lista_matriculados = [\" 2014.xlsx\",\" 2015.xlsx\",\" 2016.xlsx\",\" 2017.xlsx\",\" 2018.xlsx\"]"
   ]
  },
  {
   "cell_type": "code",
   "execution_count": 13,
   "metadata": {
    "scrolled": true
   },
   "outputs": [],
   "source": [
    "matriculados14 = pd.read_excel(str(path_matriculados+lista_matriculados[0]))\n",
    "matriculados14 = matriculados14.rename(columns={'Matriculados 2014': 'Matriculados'})\n",
    "matriculados14 = pd.DataFrame(data=matriculados14.values, columns = matriculados.columns)\n",
    "matriculados = matriculados.append(matriculados14)\n",
    "#matriculados"
   ]
  },
  {
   "cell_type": "code",
   "execution_count": 14,
   "metadata": {
    "scrolled": true
   },
   "outputs": [],
   "source": [
    "matriculados15 = pd.read_excel(str(path_matriculados+lista_matriculados[1]))\n",
    "matriculados15 = matriculados15.rename(columns={'Matriculados 2015': 'Matriculados'})\n",
    "matriculados15 = pd.DataFrame(data=matriculados15.values, columns = matriculados.columns)\n",
    "matriculados = matriculados.append(matriculados15)\n",
    "#matriculados"
   ]
  },
  {
   "cell_type": "code",
   "execution_count": 15,
   "metadata": {
    "scrolled": true
   },
   "outputs": [],
   "source": [
    "matriculados16 = pd.read_excel(str(path_matriculados+lista_matriculados[2]))\n",
    "matriculados16 = matriculados16.rename(columns={'Matriculados 2016': 'Matriculados'})\n",
    "matriculados16 = pd.DataFrame(data=matriculados16.values, columns = matriculados.columns)\n",
    "matriculados = matriculados.append(matriculados16)\n",
    "#matriculados"
   ]
  },
  {
   "cell_type": "code",
   "execution_count": 16,
   "metadata": {},
   "outputs": [],
   "source": [
    "matriculados17 = pd.read_excel(str(path_matriculados+lista_matriculados[3]))\n",
    "matriculados17 = matriculados17.rename(columns={'Matriculados 2017': 'Matriculados'})\n",
    "matriculados17 = pd.DataFrame(data=matriculados17.values, columns = matriculados.columns)\n",
    "matriculados = matriculados.append(matriculados17)\n",
    "#matriculados"
   ]
  },
  {
   "cell_type": "code",
   "execution_count": 17,
   "metadata": {},
   "outputs": [],
   "source": [
    "matriculados18 = pd.read_excel(str(path_matriculados+lista_matriculados[4]))\n",
    "matriculados18 = matriculados18.rename(columns={'Matriculados 2018': 'Matriculados'})\n",
    "matriculados18 = pd.DataFrame(data=matriculados18.values, columns = matriculados.columns)\n",
    "matriculados = matriculados.append(matriculados18)\n",
    "#matriculados"
   ]
  },
  {
   "cell_type": "code",
   "execution_count": 18,
   "metadata": {},
   "outputs": [],
   "source": [
    "matriculados = matriculados.sort_values(by=\"AÑO\")"
   ]
  },
  {
   "cell_type": "code",
   "execution_count": 19,
   "metadata": {},
   "outputs": [],
   "source": [
    "matriculados = matriculados.reset_index()"
   ]
  },
  {
   "cell_type": "code",
   "execution_count": 20,
   "metadata": {},
   "outputs": [],
   "source": [
    "matriculados = matriculados.drop(columns=\"index\")"
   ]
  },
  {
   "cell_type": "code",
   "execution_count": 21,
   "metadata": {},
   "outputs": [],
   "source": [
    "matriculados.to_pickle(\"data_processed/matriculadosT.pkl\")"
   ]
  },
  {
   "cell_type": "markdown",
   "metadata": {},
   "source": [
    "# PRIMER"
   ]
  },
  {
   "cell_type": "code",
   "execution_count": 22,
   "metadata": {},
   "outputs": [],
   "source": [
    "path_primer = \"data_raw/Primer 2019.xlsx\""
   ]
  },
  {
   "cell_type": "code",
   "execution_count": 23,
   "metadata": {},
   "outputs": [],
   "source": [
    "primer = pd.read_excel(path_primer)\n",
    "#primer"
   ]
  },
  {
   "cell_type": "code",
   "execution_count": 24,
   "metadata": {},
   "outputs": [
    {
     "data": {
      "text/plain": [
       "Index(['CÓDIGO DE LA INSTITUCIÓN', 'IES_PADRE',\n",
       "       'INSTITUCIÓN DE EDUCACIÓN SUPERIOR (IES)', 'PRINCIPAL O SECCIONAL',\n",
       "       'ID SECTOR IES', 'SECTOR IES', 'ID CARACTER', 'CARACTER IES',\n",
       "       'CÓDIGO DEL DEPARTAMENTO (IES)', 'DEPARTAMENTO DE DOMICILIO DE LA IES',\n",
       "       'CÓDIGO DEL MUNICIPIO', 'MUNICIPIO DE DOMICILIO DE LA IES',\n",
       "       'CÓDIGO SNIES DEL PROGRAMA', 'PROGRAMA ACADÉMICO', 'ID NIVEL ACADÉMICO',\n",
       "       'NIVEL ACADÉMICO', 'ID NIVEL DE FORMACIÓN', 'NIVEL DE FORMACIÓN',\n",
       "       'ID METODOLOGÍA', 'METODOLOGÍA', 'ID ÁREA', 'ÁREA DE CONOCIMIENTO',\n",
       "       'ID NÚCLEO', 'NÚCLEO BÁSICO DEL CONOCIMIENTO (NBC)',\n",
       "       'ID CINE CAMPO AMPLIO', 'DESC CINE CAMPO AMPLIO',\n",
       "       'ID CINE CAMPO ESPECIFICO', 'DESC CINE CAMPO ESPECIFICO',\n",
       "       'ID CINE CODIGO DETALLADO', 'DESC CINE CODIGO DETALLADO',\n",
       "       'CÓDIGO DEL DEPARTAMENTO (PROGRAMA)',\n",
       "       'DEPARTAMENTO DE OFERTA DEL PROGRAMA',\n",
       "       'CÓDIGO DEL MUNICIPIO (PROGRAMA)', 'MUNICIPIO DE OFERTA DEL PROGRAMA',\n",
       "       'ID SEXO', 'AÑO', 'SEMESTRE', 'PRIMER CURSO'],\n",
       "      dtype='object')"
      ]
     },
     "execution_count": 24,
     "metadata": {},
     "output_type": "execute_result"
    }
   ],
   "source": [
    "primer = primer.rename(columns={'PRIMER CURSO 2019': 'PRIMER CURSO'})\n",
    "primer.columns"
   ]
  },
  {
   "cell_type": "code",
   "execution_count": 25,
   "metadata": {},
   "outputs": [],
   "source": [
    "primer = primer.drop(columns=['ID CINE CAMPO AMPLIO', 'DESC CINE CAMPO AMPLIO','ID CINE CAMPO ESPECIFICO', 'DESC CINE CAMPO ESPECIFICO', 'ID CINE CODIGO DETALLADO', 'DESC CINE CODIGO DETALLADO'])\n",
    "primer = primer.rename(columns={'PRIMER CURSO 2019': 'PRIMER CURSO'})\n",
    "#primer"
   ]
  },
  {
   "cell_type": "code",
   "execution_count": 26,
   "metadata": {},
   "outputs": [],
   "source": [
    "path_primer = \"data_raw/Primer\"\n",
    "lista_primer = [\" 2014.xlsx\",\" 2015.xlsx\",\" 2016.xlsx\",\" 2017.xlsx\",\" 2018.xlsx\"]"
   ]
  },
  {
   "cell_type": "code",
   "execution_count": 27,
   "metadata": {},
   "outputs": [],
   "source": [
    "primer14 = pd.read_excel(str(path_primer+lista_primer[0]))\n",
    "primer14 = pd.DataFrame(data=primer14.values, columns = matriculados.columns)\n",
    "primer14 = primer14.rename(columns={\"MATRICULADOS \":'PRIMER CURSO'})\n",
    "primer14 = primer14.drop(columns=\"SEXO\")\n",
    "#primer14"
   ]
  },
  {
   "cell_type": "code",
   "execution_count": 28,
   "metadata": {},
   "outputs": [],
   "source": [
    "primer = primer.append(primer14)\n",
    "#primer"
   ]
  },
  {
   "cell_type": "code",
   "execution_count": 29,
   "metadata": {},
   "outputs": [],
   "source": [
    "primer15 = pd.read_excel(str(path_primer+lista_primer[1]))\n",
    "primer15 = pd.DataFrame(data=primer15.values, columns = matriculados.columns)\n",
    "primer15 = primer15.rename(columns={\"MATRICULADOS \":'PRIMER CURSO'})\n",
    "primer15 = primer15.drop(columns=\"SEXO\")\n",
    "#primer15"
   ]
  },
  {
   "cell_type": "code",
   "execution_count": 30,
   "metadata": {},
   "outputs": [],
   "source": [
    "primer = primer.append(primer15)\n",
    "#primer"
   ]
  },
  {
   "cell_type": "code",
   "execution_count": 31,
   "metadata": {},
   "outputs": [],
   "source": [
    "primer16 = pd.read_excel(str(path_primer+lista_primer[2]))\n",
    "primer16 = pd.DataFrame(data=primer16.values, columns = matriculados.columns)\n",
    "primer16 = primer16.rename(columns={\"MATRICULADOS \":'PRIMER CURSO'})\n",
    "primer16 = primer16.drop(columns=\"SEXO\")\n",
    "primer = primer.append(primer16)\n",
    "#primer"
   ]
  },
  {
   "cell_type": "code",
   "execution_count": 32,
   "metadata": {},
   "outputs": [],
   "source": [
    "primer17 = pd.read_excel(str(path_primer+lista_primer[3]))\n",
    "primer17 = pd.DataFrame(data=primer17.values, columns = matriculados.columns)\n",
    "primer17 = primer17.rename(columns={\"MATRICULADOS \":'PRIMER CURSO'})\n",
    "primer17 = primer17.drop(columns=\"SEXO\")\n",
    "primer = primer.append(primer17)\n",
    "#primer"
   ]
  },
  {
   "cell_type": "code",
   "execution_count": 33,
   "metadata": {},
   "outputs": [],
   "source": [
    "primer18 = pd.read_excel(str(path_primer+lista_primer[4]))\n",
    "primer18 = pd.DataFrame(data=primer18.values, columns = matriculados.columns)\n",
    "primer18 = primer18.rename(columns={\"MATRICULADOS \":'PRIMER CURSO'})\n",
    "primer18 = primer18.drop(columns=\"SEXO\")\n",
    "primer = primer.append(primer18)\n",
    "#primer"
   ]
  },
  {
   "cell_type": "code",
   "execution_count": 34,
   "metadata": {
    "scrolled": true
   },
   "outputs": [],
   "source": [
    "primer = primer.sort_values(by=\"AÑO\")\n",
    "primer = primer.reset_index()\n",
    "primer = primer.drop(columns=\"index\")\n",
    "#primer"
   ]
  },
  {
   "cell_type": "code",
   "execution_count": 35,
   "metadata": {},
   "outputs": [],
   "source": [
    "primer.to_pickle(\"data_processed/primerT.pkl\")"
   ]
  },
  {
   "cell_type": "markdown",
   "metadata": {},
   "source": [
    "# Inscritos"
   ]
  },
  {
   "cell_type": "code",
   "execution_count": 36,
   "metadata": {},
   "outputs": [],
   "source": [
    "path_inscritos = \"data_raw/Inscritos 2019.xlsx\"\n",
    "inscritos = pd.read_excel(path_inscritos)\n",
    "#inscritos"
   ]
  },
  {
   "cell_type": "code",
   "execution_count": null,
   "metadata": {},
   "outputs": [],
   "source": [
    "#ya trae los datos desde 2014 a 2019, solo debo eliminar las columnas sin datos"
   ]
  },
  {
   "cell_type": "code",
   "execution_count": 37,
   "metadata": {
    "scrolled": true
   },
   "outputs": [],
   "source": [
    "inscritos = inscritos.drop(columns=['ID CINE CAMPO AMPLIO', 'DESC CINE CAMPO AMPLIO', 'ID CINE CAMPO ESPECIFICO', 'DESC CINE CAMPO ESPECIFICO', 'ID CINE CODIGO DETALLADO', 'DESC CINE CODIGO DETALLADO'])\n",
    "#inscritos"
   ]
  },
  {
   "cell_type": "code",
   "execution_count": 38,
   "metadata": {},
   "outputs": [],
   "source": [
    "inscritos.to_pickle(\"data_processed/inscritosT.pkl\")"
   ]
  },
  {
   "cell_type": "markdown",
   "metadata": {},
   "source": [
    "# Admitidos"
   ]
  },
  {
   "cell_type": "code",
   "execution_count": 39,
   "metadata": {},
   "outputs": [],
   "source": [
    "path_admitidos = \"data_raw/admitidos 2019.xlsx\"\n",
    "admitidos = pd.read_excel(path_admitidos)\n",
    "#admitidos"
   ]
  },
  {
   "cell_type": "code",
   "execution_count": 40,
   "metadata": {},
   "outputs": [
    {
     "data": {
      "text/plain": [
       "Index(['CÓDIGO DE LA INSTITUCIÓN', 'IES_PADRE',\n",
       "       'INSTITUCIÓN DE EDUCACIÓN SUPERIOR (IES)', 'PRINCIPAL O SECCIONAL',\n",
       "       'ID SECTOR IES', 'SECTOR IES', 'ID CARACTER', 'CARACTER IES',\n",
       "       'CÓDIGO DEL DEPARTAMENTO (IES)', 'DEPARTAMENTO DE DOMICILIO DE LA IES',\n",
       "       'CÓDIGO DEL MUNICIPIO', 'MUNICIPIO DE DOMICILIO DE LA IES',\n",
       "       'CÓDIGO SNIES DEL PROGRAMA', 'PROGRAMA ACADÉMICO', 'ID NIVEL ACADÉMICO',\n",
       "       'NIVEL ACADÉMICO', 'ID NIVEL DE FORMACIÓN', 'NIVEL DE FORMACIÓN',\n",
       "       'ID METODOLOGÍA', 'METODOLOGÍA', 'ID ÁREA', 'ÁREA DE CONOCIMIENTO',\n",
       "       'ID NÚCLEO', 'NÚCLEO BÁSICO DEL CONOCIMIENTO (NBC)',\n",
       "       'ID CINE CAMPO AMPLIO', 'DESC CINE CAMPO AMPLIO',\n",
       "       'ID CINE CAMPO ESPECIFICO', 'DESC CINE CAMPO ESPECIFICO',\n",
       "       'ID CINE CODIGO DETALLADO', 'DESC CINE CODIGO DETALLADO',\n",
       "       'CÓDIGO DEL DEPARTAMENTO (PROGRAMA)',\n",
       "       'DEPARTAMENTO DE OFERTA DEL PROGRAMA',\n",
       "       'CÓDIGO DEL MUNICIPIO (PROGRAMA)', 'MUNICIPIO DE OFERTA DEL PROGRAMA',\n",
       "       'ID SEXO', 'SEXO', 'AÑO', 'SEMESTRE', 'ADMITIDOS '],\n",
       "      dtype='object')"
      ]
     },
     "execution_count": 40,
     "metadata": {},
     "output_type": "execute_result"
    }
   ],
   "source": [
    "admitidos.columns"
   ]
  },
  {
   "cell_type": "code",
   "execution_count": 41,
   "metadata": {},
   "outputs": [],
   "source": [
    "path_admitidos = \"data_raw/admitidos\"\n",
    "lista_admitidos = [\" 2014.xlsx\",\" 2015.xlsx\",\" 2016.xlsx\",\" 2017.xlsx\",\" 2018.xlsx\"]"
   ]
  },
  {
   "cell_type": "code",
   "execution_count": 42,
   "metadata": {},
   "outputs": [
    {
     "name": "stderr",
     "output_type": "stream",
     "text": [
      "C:\\Users\\000281268\\Documents\\Anaconda\\lib\\site-packages\\pandas\\core\\frame.py:6201: FutureWarning: Sorting because non-concatenation axis is not aligned. A future version\n",
      "of pandas will change to not sort by default.\n",
      "\n",
      "To accept the future behavior, pass 'sort=True'.\n",
      "\n",
      "To retain the current behavior and silence the warning, pass sort=False\n",
      "\n",
      "  sort=sort)\n"
     ]
    }
   ],
   "source": [
    "admitidos14 = pd.read_excel(str(path_admitidos+lista_admitidos[0]))\n",
    "admitidos14 = pd.DataFrame(data=admitidos14.values, columns = matriculados.columns)\n",
    "admitidos14 = admitidos14.rename(columns={\"MATRICULADOS \":'ADMITIDOS '})\n",
    "#admitidos14 = admitidos14.drop(columns=\"SEXO\")\n",
    "admitidos = admitidos.append(admitidos14)\n",
    "#admitidos"
   ]
  },
  {
   "cell_type": "code",
   "execution_count": 43,
   "metadata": {},
   "outputs": [
    {
     "name": "stderr",
     "output_type": "stream",
     "text": [
      "C:\\Users\\000281268\\Documents\\Anaconda\\lib\\site-packages\\pandas\\core\\frame.py:6201: FutureWarning: Sorting because non-concatenation axis is not aligned. A future version\n",
      "of pandas will change to not sort by default.\n",
      "\n",
      "To accept the future behavior, pass 'sort=True'.\n",
      "\n",
      "To retain the current behavior and silence the warning, pass sort=False\n",
      "\n",
      "  sort=sort)\n"
     ]
    }
   ],
   "source": [
    "admitidos15 = pd.read_excel(str(path_admitidos+lista_admitidos[1]))\n",
    "admitidos15 = pd.DataFrame(data=admitidos15.values, columns = matriculados.columns)\n",
    "admitidos15 = admitidos15.rename(columns={\"MATRICULADOS \":'ADMITIDOS '})\n",
    "#admitidos15 = admitidos15.drop(columns=\"SEXO\")\n",
    "admitidos = admitidos.append(admitidos15)\n",
    "#admitidos"
   ]
  },
  {
   "cell_type": "code",
   "execution_count": 44,
   "metadata": {},
   "outputs": [
    {
     "name": "stderr",
     "output_type": "stream",
     "text": [
      "C:\\Users\\000281268\\Documents\\Anaconda\\lib\\site-packages\\pandas\\core\\frame.py:6201: FutureWarning: Sorting because non-concatenation axis is not aligned. A future version\n",
      "of pandas will change to not sort by default.\n",
      "\n",
      "To accept the future behavior, pass 'sort=True'.\n",
      "\n",
      "To retain the current behavior and silence the warning, pass sort=False\n",
      "\n",
      "  sort=sort)\n"
     ]
    }
   ],
   "source": [
    "admitidos16 = pd.read_excel(str(path_admitidos+lista_admitidos[2]))\n",
    "admitidos16 = pd.DataFrame(data=admitidos16.values, columns = matriculados.columns)\n",
    "admitidos16 = admitidos16.rename(columns={\"MATRICULADOS \":'ADMITIDOS '})\n",
    "#admitidos16 = admitidos16.drop(columns=\"SEXO\")\n",
    "admitidos = admitidos.append(admitidos16)\n",
    "#admitidos"
   ]
  },
  {
   "cell_type": "code",
   "execution_count": 45,
   "metadata": {},
   "outputs": [
    {
     "name": "stderr",
     "output_type": "stream",
     "text": [
      "C:\\Users\\000281268\\Documents\\Anaconda\\lib\\site-packages\\pandas\\core\\frame.py:6201: FutureWarning: Sorting because non-concatenation axis is not aligned. A future version\n",
      "of pandas will change to not sort by default.\n",
      "\n",
      "To accept the future behavior, pass 'sort=True'.\n",
      "\n",
      "To retain the current behavior and silence the warning, pass sort=False\n",
      "\n",
      "  sort=sort)\n"
     ]
    }
   ],
   "source": [
    "admitidos17 = pd.read_excel(str(path_admitidos+lista_admitidos[3]))\n",
    "admitidos17 = pd.DataFrame(data=admitidos17.values, columns = matriculados.columns)\n",
    "admitidos17 = admitidos17.rename(columns={\"MATRICULADOS \":'ADMITIDOS '})\n",
    "#admitidos17 = admitidos17.drop(columns=\"SEXO\")\n",
    "admitidos = admitidos.append(admitidos17)\n",
    "#admitidos"
   ]
  },
  {
   "cell_type": "code",
   "execution_count": 46,
   "metadata": {},
   "outputs": [
    {
     "name": "stderr",
     "output_type": "stream",
     "text": [
      "C:\\Users\\000281268\\Documents\\Anaconda\\lib\\site-packages\\pandas\\core\\frame.py:6201: FutureWarning: Sorting because non-concatenation axis is not aligned. A future version\n",
      "of pandas will change to not sort by default.\n",
      "\n",
      "To accept the future behavior, pass 'sort=True'.\n",
      "\n",
      "To retain the current behavior and silence the warning, pass sort=False\n",
      "\n",
      "  sort=sort)\n"
     ]
    }
   ],
   "source": [
    "admitidos18 = pd.read_excel(str(path_admitidos+lista_admitidos[4]))\n",
    "admitidos18 = pd.DataFrame(data=admitidos18.values, columns = matriculados.columns)\n",
    "admitidos18 = admitidos18.rename(columns={\"MATRICULADOS \":'ADMITIDOS '})\n",
    "#admitidos18 = admitidos18.drop(columns=\"SEXO\")\n",
    "admitidos = admitidos.append(admitidos18)\n",
    "#admitidos"
   ]
  },
  {
   "cell_type": "code",
   "execution_count": 47,
   "metadata": {},
   "outputs": [],
   "source": [
    "admitidos = admitidos.sort_values(by=\"AÑO\")\n",
    "admitidos = admitidos.reset_index()\n",
    "admitidos = admitidos.drop(columns=\"index\")\n",
    "#admitidos"
   ]
  },
  {
   "cell_type": "code",
   "execution_count": 48,
   "metadata": {},
   "outputs": [],
   "source": [
    "admitidos.to_pickle(\"data_processed/admitidosT.pkl\")"
   ]
  },
  {
   "cell_type": "code",
   "execution_count": null,
   "metadata": {},
   "outputs": [],
   "source": []
  },
  {
   "cell_type": "code",
   "execution_count": null,
   "metadata": {},
   "outputs": [],
   "source": []
  }
 ],
 "metadata": {
  "kernelspec": {
   "display_name": "Python 3",
   "language": "python",
   "name": "python3"
  },
  "language_info": {
   "codemirror_mode": {
    "name": "ipython",
    "version": 3
   },
   "file_extension": ".py",
   "mimetype": "text/x-python",
   "name": "python",
   "nbconvert_exporter": "python",
   "pygments_lexer": "ipython3",
   "version": "3.10.0"
  }
 },
 "nbformat": 4,
 "nbformat_minor": 4
}
